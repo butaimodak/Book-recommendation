{
 "cells": [
  {
   "cell_type": "code",
   "execution_count": 57,
   "metadata": {
    "id": "DnCShRGrHyeW"
   },
   "outputs": [],
   "source": [
    "import numpy as np\n",
    "import pandas as pd\n",
    "import matplotlib.pyplot as plt\n",
    "import seaborn as sns\n",
    "from sklearn.metrics.pairwise import cosine_similarity\n",
    "from collections import defaultdict\n",
    "import warnings\n",
    "warnings.filterwarnings('ignore')"
   ]
  },
  {
   "cell_type": "markdown",
   "metadata": {
    "id": "bsrpBg8bb96G"
   },
   "source": [
    "## Data Preparation\n",
    "### Content\n",
    "The Book-Crossing dataset comprises 3 files.\n",
    "\n",
    "- Users<br>\n",
    "Contains the users. Note that user IDs `(User-ID)` have been anonymized and map to integers. Demographic data is provided (`Location`, `Age`) if available. Otherwise, these fields contain NULL-values.\n",
    "\n",
    "\n",
    "- Books<br>\n",
    "Books are identified by their respective ISBN. Invalid ISBNs have already been removed from the dataset. Moreover, some content-based information is given (`Book-Title`, `Book-Author`, `Year-Of-Publication`, `Publisher`), obtained from Amazon Web Services. Note that in case of several authors, only the first is provided. URLs linking to cover images are also given, appearing in three different flavours (`Image-URL-S`, `Image-URL-M`, `Image-URL-L`), i.e., small, medium, large. These URLs point to the Amazon web site.\n",
    "\n",
    "\n",
    "- Ratings<br>\n",
    "Contains the book rating information. Ratings (Book-Rating) are either explicit, expressed on a scale from 1-10 (higher values denoting higher appreciation), or implicit, expressed by 0."
   ]
  },
  {
   "cell_type": "code",
   "execution_count": 58,
   "metadata": {
    "colab": {
     "base_uri": "https://localhost:8080/"
    },
    "id": "q-YUHaUTI2z9",
    "outputId": "d3c7a967-e520-4bed-d991-5bd795d0f92f"
   },
   "outputs": [],
   "source": [
    "Ratings = pd.read_csv('Ratings.csv')\n",
    "Users = pd.read_csv('Users.csv')\n",
    "Books = pd.read_csv('Books.csv')"
   ]
  },
  {
   "cell_type": "code",
   "execution_count": 59,
   "metadata": {
    "colab": {
     "base_uri": "https://localhost:8080/",
     "height": 197
    },
    "id": "YkYUPiuJLplm",
    "outputId": "d8cefd17-74ed-44d3-c86c-7e878ee2b273"
   },
   "outputs": [
    {
     "data": {
      "text/html": [
       "<div>\n",
       "<style scoped>\n",
       "    .dataframe tbody tr th:only-of-type {\n",
       "        vertical-align: middle;\n",
       "    }\n",
       "\n",
       "    .dataframe tbody tr th {\n",
       "        vertical-align: top;\n",
       "    }\n",
       "\n",
       "    .dataframe thead th {\n",
       "        text-align: right;\n",
       "    }\n",
       "</style>\n",
       "<table border=\"1\" class=\"dataframe\">\n",
       "  <thead>\n",
       "    <tr style=\"text-align: right;\">\n",
       "      <th></th>\n",
       "      <th>ISBN</th>\n",
       "      <th>Book-Title</th>\n",
       "      <th>Book-Author</th>\n",
       "      <th>Year-Of-Publication</th>\n",
       "      <th>Publisher</th>\n",
       "      <th>Image-URL-S</th>\n",
       "      <th>Image-URL-M</th>\n",
       "      <th>Image-URL-L</th>\n",
       "    </tr>\n",
       "  </thead>\n",
       "  <tbody>\n",
       "    <tr>\n",
       "      <th>0</th>\n",
       "      <td>0195153448</td>\n",
       "      <td>Classical Mythology</td>\n",
       "      <td>Mark P. O. Morford</td>\n",
       "      <td>2002</td>\n",
       "      <td>Oxford University Press</td>\n",
       "      <td>http://images.amazon.com/images/P/0195153448.0...</td>\n",
       "      <td>http://images.amazon.com/images/P/0195153448.0...</td>\n",
       "      <td>http://images.amazon.com/images/P/0195153448.0...</td>\n",
       "    </tr>\n",
       "  </tbody>\n",
       "</table>\n",
       "</div>"
      ],
      "text/plain": [
       "         ISBN           Book-Title         Book-Author Year-Of-Publication  \\\n",
       "0  0195153448  Classical Mythology  Mark P. O. Morford                2002   \n",
       "\n",
       "                 Publisher                                        Image-URL-S  \\\n",
       "0  Oxford University Press  http://images.amazon.com/images/P/0195153448.0...   \n",
       "\n",
       "                                         Image-URL-M  \\\n",
       "0  http://images.amazon.com/images/P/0195153448.0...   \n",
       "\n",
       "                                         Image-URL-L  \n",
       "0  http://images.amazon.com/images/P/0195153448.0...  "
      ]
     },
     "execution_count": 59,
     "metadata": {},
     "output_type": "execute_result"
    }
   ],
   "source": [
    "Books.head(1)"
   ]
  },
  {
   "cell_type": "code",
   "execution_count": 60,
   "metadata": {
    "colab": {
     "base_uri": "https://localhost:8080/",
     "height": 143
    },
    "id": "B2ay_PRkLtgJ",
    "outputId": "74db2508-8916-4912-9104-3955d4055bd6"
   },
   "outputs": [
    {
     "data": {
      "text/html": [
       "<div>\n",
       "<style scoped>\n",
       "    .dataframe tbody tr th:only-of-type {\n",
       "        vertical-align: middle;\n",
       "    }\n",
       "\n",
       "    .dataframe tbody tr th {\n",
       "        vertical-align: top;\n",
       "    }\n",
       "\n",
       "    .dataframe thead th {\n",
       "        text-align: right;\n",
       "    }\n",
       "</style>\n",
       "<table border=\"1\" class=\"dataframe\">\n",
       "  <thead>\n",
       "    <tr style=\"text-align: right;\">\n",
       "      <th></th>\n",
       "      <th>User-ID</th>\n",
       "      <th>Location</th>\n",
       "      <th>Age</th>\n",
       "    </tr>\n",
       "  </thead>\n",
       "  <tbody>\n",
       "    <tr>\n",
       "      <th>0</th>\n",
       "      <td>1</td>\n",
       "      <td>nyc, new york, usa</td>\n",
       "      <td>NaN</td>\n",
       "    </tr>\n",
       "  </tbody>\n",
       "</table>\n",
       "</div>"
      ],
      "text/plain": [
       "   User-ID            Location  Age\n",
       "0        1  nyc, new york, usa  NaN"
      ]
     },
     "execution_count": 60,
     "metadata": {},
     "output_type": "execute_result"
    }
   ],
   "source": [
    "Users.head(1)"
   ]
  },
  {
   "cell_type": "code",
   "execution_count": 61,
   "metadata": {
    "colab": {
     "base_uri": "https://localhost:8080/",
     "height": 143
    },
    "id": "Z9rRwBclLs81",
    "outputId": "ef691846-a663-49ab-c8eb-7c68a143225e"
   },
   "outputs": [
    {
     "data": {
      "text/html": [
       "<div>\n",
       "<style scoped>\n",
       "    .dataframe tbody tr th:only-of-type {\n",
       "        vertical-align: middle;\n",
       "    }\n",
       "\n",
       "    .dataframe tbody tr th {\n",
       "        vertical-align: top;\n",
       "    }\n",
       "\n",
       "    .dataframe thead th {\n",
       "        text-align: right;\n",
       "    }\n",
       "</style>\n",
       "<table border=\"1\" class=\"dataframe\">\n",
       "  <thead>\n",
       "    <tr style=\"text-align: right;\">\n",
       "      <th></th>\n",
       "      <th>User-ID</th>\n",
       "      <th>ISBN</th>\n",
       "      <th>Book-Rating</th>\n",
       "    </tr>\n",
       "  </thead>\n",
       "  <tbody>\n",
       "    <tr>\n",
       "      <th>0</th>\n",
       "      <td>276725</td>\n",
       "      <td>034545104X</td>\n",
       "      <td>0</td>\n",
       "    </tr>\n",
       "  </tbody>\n",
       "</table>\n",
       "</div>"
      ],
      "text/plain": [
       "   User-ID        ISBN  Book-Rating\n",
       "0   276725  034545104X            0"
      ]
     },
     "execution_count": 61,
     "metadata": {},
     "output_type": "execute_result"
    }
   ],
   "source": [
    "Ratings.head(1)"
   ]
  },
  {
   "cell_type": "markdown",
   "metadata": {
    "id": "mjOiJFkCb96V"
   },
   "source": [
    "## EDA"
   ]
  },
  {
   "cell_type": "code",
   "execution_count": 62,
   "metadata": {
    "colab": {
     "base_uri": "https://localhost:8080/"
    },
    "id": "uHGydeVoL9O9",
    "outputId": "73546af8-fda0-40c2-8b66-94eafa0aad31"
   },
   "outputs": [
    {
     "name": "stdout",
     "output_type": "stream",
     "text": [
      "Shape of Books =  (271360, 8)\n",
      "Shape of Users =  (278858, 3)\n",
      "Shape of Ratings =  (1149780, 3)\n"
     ]
    }
   ],
   "source": [
    "# Checking shape of all 3 dataSets\n",
    "print('Shape of Books = ',Books.shape)\n",
    "print('Shape of Users = ',Users.shape)\n",
    "print('Shape of Ratings = ',Ratings.shape)"
   ]
  },
  {
   "cell_type": "code",
   "execution_count": 63,
   "metadata": {
    "colab": {
     "base_uri": "https://localhost:8080/"
    },
    "id": "yYXgIZbfL8w7",
    "outputId": "c3799e42-0843-43f9-b3c1-5479a4ce5bc8"
   },
   "outputs": [
    {
     "data": {
      "text/plain": [
       "ISBN                   0\n",
       "Book-Title             0\n",
       "Book-Author            1\n",
       "Year-Of-Publication    0\n",
       "Publisher              2\n",
       "Image-URL-S            0\n",
       "Image-URL-M            0\n",
       "Image-URL-L            3\n",
       "dtype: int64"
      ]
     },
     "execution_count": 63,
     "metadata": {},
     "output_type": "execute_result"
    }
   ],
   "source": [
    "# Checking null values of Books dataset\n",
    "Books.isnull().sum()"
   ]
  },
  {
   "cell_type": "markdown",
   "metadata": {
    "id": "7AciwFBJb96c"
   },
   "source": [
    "Our main feature is `Book-Title` and it doesnot contain any null values."
   ]
  },
  {
   "cell_type": "code",
   "execution_count": 64,
   "metadata": {
    "colab": {
     "base_uri": "https://localhost:8080/"
    },
    "id": "1mLDDWGTMv7C",
    "outputId": "e9dec46e-53dd-4f63-f92e-ccade5ffb131"
   },
   "outputs": [
    {
     "data": {
      "text/plain": [
       "User-ID          0\n",
       "Location         0\n",
       "Age         110762\n",
       "dtype: int64"
      ]
     },
     "execution_count": 64,
     "metadata": {},
     "output_type": "execute_result"
    }
   ],
   "source": [
    "# Checking null values of Users dataset\n",
    "Users.isnull().sum()"
   ]
  },
  {
   "cell_type": "markdown",
   "metadata": {
    "id": "HfFltQ64b96g"
   },
   "source": [
    "Our main feature is `User-ID` and it doesnot contain any null values."
   ]
  },
  {
   "cell_type": "code",
   "execution_count": 65,
   "metadata": {
    "colab": {
     "base_uri": "https://localhost:8080/"
    },
    "id": "pv_x-jLqM1GN",
    "outputId": "86483bea-081f-4304-a663-86a4eee59c04"
   },
   "outputs": [
    {
     "data": {
      "text/plain": [
       "User-ID        0\n",
       "ISBN           0\n",
       "Book-Rating    0\n",
       "dtype: int64"
      ]
     },
     "execution_count": 65,
     "metadata": {},
     "output_type": "execute_result"
    }
   ],
   "source": [
    "# Checking null values of Ratings dataset\n",
    "Ratings.isnull().sum()"
   ]
  },
  {
   "cell_type": "code",
   "execution_count": 5,
   "metadata": {
    "colab": {
     "base_uri": "https://localhost:8080/",
     "height": 214
    },
    "id": "hxqdxQ4QK2l8",
    "outputId": "3c23d915-6a4f-4f16-b776-58708afa0522"
   },
   "outputs": [
    {
     "data": {
      "text/html": [
       "<div>\n",
       "<style scoped>\n",
       "    .dataframe tbody tr th:only-of-type {\n",
       "        vertical-align: middle;\n",
       "    }\n",
       "\n",
       "    .dataframe tbody tr th {\n",
       "        vertical-align: top;\n",
       "    }\n",
       "\n",
       "    .dataframe thead th {\n",
       "        text-align: right;\n",
       "    }\n",
       "</style>\n",
       "<table border=\"1\" class=\"dataframe\">\n",
       "  <thead>\n",
       "    <tr style=\"text-align: right;\">\n",
       "      <th></th>\n",
       "      <th>User-ID</th>\n",
       "      <th>ISBN</th>\n",
       "      <th>Book-Rating</th>\n",
       "      <th>Book-Title</th>\n",
       "      <th>Book-Author</th>\n",
       "      <th>Year-Of-Publication</th>\n",
       "      <th>Publisher</th>\n",
       "      <th>Image-URL-S</th>\n",
       "      <th>Image-URL-M</th>\n",
       "      <th>Image-URL-L</th>\n",
       "    </tr>\n",
       "  </thead>\n",
       "  <tbody>\n",
       "    <tr>\n",
       "      <th>0</th>\n",
       "      <td>276725</td>\n",
       "      <td>034545104X</td>\n",
       "      <td>0</td>\n",
       "      <td>Flesh Tones: A Novel</td>\n",
       "      <td>M. J. Rose</td>\n",
       "      <td>2002</td>\n",
       "      <td>Ballantine Books</td>\n",
       "      <td>http://images.amazon.com/images/P/034545104X.0...</td>\n",
       "      <td>http://images.amazon.com/images/P/034545104X.0...</td>\n",
       "      <td>http://images.amazon.com/images/P/034545104X.0...</td>\n",
       "    </tr>\n",
       "  </tbody>\n",
       "</table>\n",
       "</div>"
      ],
      "text/plain": [
       "   User-ID        ISBN  Book-Rating            Book-Title Book-Author  \\\n",
       "0   276725  034545104X            0  Flesh Tones: A Novel  M. J. Rose   \n",
       "\n",
       "  Year-Of-Publication         Publisher  \\\n",
       "0                2002  Ballantine Books   \n",
       "\n",
       "                                         Image-URL-S  \\\n",
       "0  http://images.amazon.com/images/P/034545104X.0...   \n",
       "\n",
       "                                         Image-URL-M  \\\n",
       "0  http://images.amazon.com/images/P/034545104X.0...   \n",
       "\n",
       "                                         Image-URL-L  \n",
       "0  http://images.amazon.com/images/P/034545104X.0...  "
      ]
     },
     "execution_count": 5,
     "metadata": {},
     "output_type": "execute_result"
    }
   ],
   "source": [
    "# Mergint Rating & Books file on basis of ISBN\n",
    "Rating_with_name = Ratings.merge(Books,on='ISBN')\n",
    "Rating_with_name.head(1)"
   ]
  },
  {
   "cell_type": "code",
   "execution_count": 66,
   "metadata": {
    "id": "p4JcQ6WTb96k",
    "outputId": "3daf7f12-5cc6-4757-c7bc-fb797714f9c8"
   },
   "outputs": [
    {
     "name": "stdout",
     "output_type": "stream",
     "text": [
      "Total Number of Users giving rating =  92106\n",
      "Total Number of Books get reviewed =  241071\n",
      "Total Number of ratings =  1031136\n"
     ]
    }
   ],
   "source": [
    "Number_of_users = Rating_with_name['User-ID'].nunique()\n",
    "Number_of_books = Rating_with_name['Book-Title'].nunique()\n",
    "Number_of_ratings = Rating_with_name.shape[0]\n",
    "print('Total Number of Users giving rating = ',Number_of_users)\n",
    "print('Total Number of Books get reviewed = ',Number_of_books)\n",
    "print('Total Number of ratings = ',Number_of_ratings)"
   ]
  },
  {
   "cell_type": "markdown",
   "metadata": {
    "id": "UvgclRlXb96m"
   },
   "source": [
    "Let's check per rating (1-10) number of rating counts"
   ]
  },
  {
   "cell_type": "code",
   "execution_count": 67,
   "metadata": {
    "id": "nEWjNn3zb96n",
    "outputId": "703d1fac-f209-415c-d443-46d58539dc6a"
   },
   "outputs": [
    {
     "data": {
      "image/png": "[encoded data removed]",
      "text/plain": [
       "<Figure size 648x432 with 1 Axes>"
      ]
     },
     "metadata": {
      "needs_background": "light"
     },
     "output_type": "display_data"
    }
   ],
   "source": [
    "# stars gives number of ratings of individual rating (1-10)\n",
    "stars=Rating_with_name.groupby('Book-Rating')['Book-Rating'].agg(['count'])\n",
    "\n",
    "ax=stars.plot(kind='barh', legend=False, figsize=(9,6))\n",
    "plt.xlabel('Number of ratings')\n",
    "plt.title(f'Total pool: {Number_of_books} Books, {Number_of_users} Customers, {Number_of_ratings} ratings given', fontsize=14)\n",
    "plt.grid(True)"
   ]
  },
  {
   "cell_type": "markdown",
   "metadata": {
    "id": "qRLPxkOAb96p"
   },
   "source": [
    "Most of the books are not rated. Let's check distribution avg-rating and number of ratings of every books"
   ]
  },
  {
   "cell_type": "code",
   "execution_count": 68,
   "metadata": {
    "id": "xybH_Fpob96q",
    "outputId": "2473f81f-31be-4351-985f-f9c1691346ad"
   },
   "outputs": [
    {
     "data": {
      "image/png": "[encoded data removed]",
      "text/plain": [
       "<Figure size 648x288 with 1 Axes>"
      ]
     },
     "metadata": {
      "needs_background": "light"
     },
     "output_type": "display_data"
    }
   ],
   "source": [
    "# book_by_rating gives per Book wise average rating and total number of ratings\n",
    "book_by_rating = Rating_with_name.groupby('Book-Title').agg(Avg_rating = ('Book-Rating', 'mean'),\n",
    "                                                          Number_of_rating = ('Book-Rating','count')).reset_index()\n",
    "\n",
    "#Plotting the scatterplot \n",
    "plt.figure(figsize=(9,4))\n",
    "sns.scatterplot(x='Avg_rating', y='Number_of_rating', data=book_by_rating)\n",
    "plt.title('plot of each book with it\\'s number of rating and avg. rating', fontsize=14)\n",
    "plt.show()"
   ]
  },
  {
   "cell_type": "markdown",
   "metadata": {
    "id": "ADjPfMKjb96r"
   },
   "source": [
    "Avg. rating is $<4$. This is because most of the users do not rate.Let's remove those users who do not give rating."
   ]
  },
  {
   "cell_type": "code",
   "execution_count": 69,
   "metadata": {
    "id": "osGOJg1vb96t",
    "outputId": "3e102d2e-a529-4c30-c276-19477510915f"
   },
   "outputs": [
    {
     "data": {
      "image/png": "[encoded data removed]",
      "text/plain": [
       "<Figure size 648x288 with 1 Axes>"
      ]
     },
     "metadata": {
      "needs_background": "light"
     },
     "output_type": "display_data"
    }
   ],
   "source": [
    "# Rated_no_0 removes all details of 0 rating\n",
    "Rated_no_0 = Rating_with_name[Rating_with_name['Book-Rating']!=0]\n",
    "\n",
    "# book_by_rating_no_0 gives per Book wise average rating and total number of ratings\n",
    "book_by_rating_no_0 = Rated_no_0.groupby('Book-Title').agg(Avg_rating = ('Book-Rating', 'mean'),\n",
    "                                                          Number_of_rating = ('Book-Rating','count')).reset_index()\n",
    "\n",
    "#Plotting the scatterplot \n",
    "plt.figure(figsize=(9,4))\n",
    "sns.scatterplot(x='Avg_rating', y='Number_of_rating', data=book_by_rating_no_0)\n",
    "plt.title('plot of each book with it\\'s number of rating and avg. rating', fontsize=14)\n",
    "plt.show()"
   ]
  },
  {
   "cell_type": "markdown",
   "metadata": {
    "id": "elV9dHoBb96u"
   },
   "source": [
    "Now avg. rating is arround $7-9$."
   ]
  },
  {
   "cell_type": "code",
   "execution_count": 70,
   "metadata": {
    "id": "RIphCCJZb96v",
    "outputId": "fd5fb08c-4be2-46eb-e1f0-1a47673d7df1"
   },
   "outputs": [
    {
     "name": "stdout",
     "output_type": "stream",
     "text": [
      "Among 1031136 of ratings only 383842 number of ratings are non-zero.\n",
      "Therefore rating % = 37.23%\n"
     ]
    }
   ],
   "source": [
    "print(f'''Among {Rating_with_name.shape[0]} of ratings only {Rated_no_0.shape[0]} number of ratings are non-zero.\n",
    "Therefore rating % = {round(Rated_no_0.shape[0]/Rating_with_name.shape[0]*100,2)}%''')"
   ]
  },
  {
   "cell_type": "markdown",
   "metadata": {
    "id": "go9fW86tKwTP"
   },
   "source": [
    "## Popularity Based Recommendation System\n",
    "Popularity Based Reommendation System refers to those books which achieve Top 50 rank in numbers of ratings"
   ]
  },
  {
   "cell_type": "code",
   "execution_count": 71,
   "metadata": {
    "colab": {
     "base_uri": "https://localhost:8080/",
     "height": 229
    },
    "id": "kJaERZAdNQaX",
    "outputId": "a04f6c88-bb95-46fd-c43a-9ca5b970952c"
   },
   "outputs": [
    {
     "data": {
      "text/html": [
       "<div>\n",
       "<style scoped>\n",
       "    .dataframe tbody tr th:only-of-type {\n",
       "        vertical-align: middle;\n",
       "    }\n",
       "\n",
       "    .dataframe tbody tr th {\n",
       "        vertical-align: top;\n",
       "    }\n",
       "\n",
       "    .dataframe thead th {\n",
       "        text-align: right;\n",
       "    }\n",
       "</style>\n",
       "<table border=\"1\" class=\"dataframe\">\n",
       "  <thead>\n",
       "    <tr style=\"text-align: right;\">\n",
       "      <th></th>\n",
       "      <th>Book-Title</th>\n",
       "      <th>Avg_rating</th>\n",
       "      <th>Number_of_rating</th>\n",
       "    </tr>\n",
       "  </thead>\n",
       "  <tbody>\n",
       "    <tr>\n",
       "      <th>80434</th>\n",
       "      <td>Harry Potter and the Prisoner of Azkaban (Book 3)</td>\n",
       "      <td>5.852804</td>\n",
       "      <td>428</td>\n",
       "    </tr>\n",
       "    <tr>\n",
       "      <th>80422</th>\n",
       "      <td>Harry Potter and the Goblet of Fire (Book 4)</td>\n",
       "      <td>5.824289</td>\n",
       "      <td>387</td>\n",
       "    </tr>\n",
       "    <tr>\n",
       "      <th>80441</th>\n",
       "      <td>Harry Potter and the Sorcerer's Stone (Book 1)</td>\n",
       "      <td>5.737410</td>\n",
       "      <td>278</td>\n",
       "    </tr>\n",
       "    <tr>\n",
       "      <th>80426</th>\n",
       "      <td>Harry Potter and the Order of the Phoenix (Boo...</td>\n",
       "      <td>5.501441</td>\n",
       "      <td>347</td>\n",
       "    </tr>\n",
       "    <tr>\n",
       "      <th>80414</th>\n",
       "      <td>Harry Potter and the Chamber of Secrets (Book 2)</td>\n",
       "      <td>5.183453</td>\n",
       "      <td>556</td>\n",
       "    </tr>\n",
       "  </tbody>\n",
       "</table>\n",
       "</div>"
      ],
      "text/plain": [
       "                                              Book-Title  Avg_rating  \\\n",
       "80434  Harry Potter and the Prisoner of Azkaban (Book 3)    5.852804   \n",
       "80422       Harry Potter and the Goblet of Fire (Book 4)    5.824289   \n",
       "80441     Harry Potter and the Sorcerer's Stone (Book 1)    5.737410   \n",
       "80426  Harry Potter and the Order of the Phoenix (Boo...    5.501441   \n",
       "80414   Harry Potter and the Chamber of Secrets (Book 2)    5.183453   \n",
       "\n",
       "       Number_of_rating  \n",
       "80434               428  \n",
       "80422               387  \n",
       "80441               278  \n",
       "80426               347  \n",
       "80414               556  "
      ]
     },
     "execution_count": 71,
     "metadata": {},
     "output_type": "execute_result"
    }
   ],
   "source": [
    "# Popular_book refers to those which collect atleast 250 numbers of ratings\n",
    "Popular_book = book_by_rating[book_by_rating['Number_of_rating']>250].sort_values(by='Avg_rating',ascending=False)\n",
    "\n",
    "# Top_50_book refers to those 50 Popular books which have highest average rating\n",
    "Top_50_book = Popular_book.head(50)\n",
    "Top_50_book.head()"
   ]
  },
  {
   "cell_type": "markdown",
   "metadata": {
    "id": "YPHSUrwDb96z"
   },
   "source": [
    "From above list it is shown that **Harry Potter Series** is in top 5 list."
   ]
  },
  {
   "cell_type": "code",
   "execution_count": 72,
   "metadata": {
    "colab": {
     "base_uri": "https://localhost:8080/",
     "height": 417
    },
    "id": "8FSOK__xURbQ",
    "outputId": "51123cc9-7adb-4bc7-cdb0-324ffbda44d8"
   },
   "outputs": [
    {
     "data": {
      "text/html": [
       "<div>\n",
       "<style scoped>\n",
       "    .dataframe tbody tr th:only-of-type {\n",
       "        vertical-align: middle;\n",
       "    }\n",
       "\n",
       "    .dataframe tbody tr th {\n",
       "        vertical-align: top;\n",
       "    }\n",
       "\n",
       "    .dataframe thead th {\n",
       "        text-align: right;\n",
       "    }\n",
       "</style>\n",
       "<table border=\"1\" class=\"dataframe\">\n",
       "  <thead>\n",
       "    <tr style=\"text-align: right;\">\n",
       "      <th></th>\n",
       "      <th>Book-Title</th>\n",
       "      <th>Avg_rating</th>\n",
       "      <th>Number_of_rating</th>\n",
       "      <th>Book-Author</th>\n",
       "      <th>Year-Of-Publication</th>\n",
       "      <th>Publisher</th>\n",
       "      <th>Image-URL-M</th>\n",
       "    </tr>\n",
       "  </thead>\n",
       "  <tbody>\n",
       "    <tr>\n",
       "      <th>0</th>\n",
       "      <td>Harry Potter and the Prisoner of Azkaban (Book 3)</td>\n",
       "      <td>5.852804</td>\n",
       "      <td>428</td>\n",
       "      <td>J. K. Rowling</td>\n",
       "      <td>1999</td>\n",
       "      <td>Scholastic</td>\n",
       "      <td>http://images.amazon.com/images/P/0439136350.0...</td>\n",
       "    </tr>\n",
       "    <tr>\n",
       "      <th>3</th>\n",
       "      <td>Harry Potter and the Goblet of Fire (Book 4)</td>\n",
       "      <td>5.824289</td>\n",
       "      <td>387</td>\n",
       "      <td>J. K. Rowling</td>\n",
       "      <td>2000</td>\n",
       "      <td>Scholastic</td>\n",
       "      <td>http://images.amazon.com/images/P/0439139597.0...</td>\n",
       "    </tr>\n",
       "    <tr>\n",
       "      <th>5</th>\n",
       "      <td>Harry Potter and the Sorcerer's Stone (Book 1)</td>\n",
       "      <td>5.737410</td>\n",
       "      <td>278</td>\n",
       "      <td>J. K. Rowling</td>\n",
       "      <td>1998</td>\n",
       "      <td>Scholastic</td>\n",
       "      <td>http://images.amazon.com/images/P/0590353403.0...</td>\n",
       "    </tr>\n",
       "  </tbody>\n",
       "</table>\n",
       "</div>"
      ],
      "text/plain": [
       "                                          Book-Title  Avg_rating  \\\n",
       "0  Harry Potter and the Prisoner of Azkaban (Book 3)    5.852804   \n",
       "3       Harry Potter and the Goblet of Fire (Book 4)    5.824289   \n",
       "5     Harry Potter and the Sorcerer's Stone (Book 1)    5.737410   \n",
       "\n",
       "   Number_of_rating    Book-Author Year-Of-Publication   Publisher  \\\n",
       "0               428  J. K. Rowling                1999  Scholastic   \n",
       "3               387  J. K. Rowling                2000  Scholastic   \n",
       "5               278  J. K. Rowling                1998  Scholastic   \n",
       "\n",
       "                                         Image-URL-M  \n",
       "0  http://images.amazon.com/images/P/0439136350.0...  \n",
       "3  http://images.amazon.com/images/P/0439139597.0...  \n",
       "5  http://images.amazon.com/images/P/0590353403.0...  "
      ]
     },
     "execution_count": 72,
     "metadata": {},
     "output_type": "execute_result"
    }
   ],
   "source": [
    "# Top_50_book_with_detail gives detail of Top-50 books\n",
    "Top_50_book_with_detail = Top_50_book.merge(Books,on='Book-Title').drop_duplicates('Book-Title').drop(['ISBN','Image-URL-S','Image-URL-L'],axis=1)\n",
    "Top_50_book_with_detail.head(3)"
   ]
  },
  {
   "cell_type": "markdown",
   "metadata": {
    "id": "EU3TqitbaMbX"
   },
   "source": [
    " ## Colaborative Based recommendation system\n",
    " Collaborative filtering is based on the assumption that people who agreed in the past will agree in the future, and that they will like similar kinds of items as they liked in the past. The system generates recommendations using only information about rating profiles for different users or items. By locating peer users/items with a rating history similar to the current user or item, they generate recommendations using this neighborhood. Collaborative filtering methods are classified as `memory-based` and `model-based`\n",
    " ### memory-based filtering\n",
    " #### Item-based filtering"
   ]
  },
  {
   "cell_type": "code",
   "execution_count": 73,
   "metadata": {
    "colab": {
     "base_uri": "https://localhost:8080/"
    },
    "id": "YKHLsbJgUw04",
    "outputId": "d24e8a6e-dbb6-420c-df48-5a46e40db7d2"
   },
   "outputs": [
    {
     "name": "stdout",
     "output_type": "stream",
     "text": [
      "Only top 811 number of users give 474007 number of rating. \n",
      "Threfore average number of rating per top users= 584.47\n"
     ]
    }
   ],
   "source": [
    "# valid_users are those who atleast give rating more than 200 books\n",
    "valid_users = Rating_with_name.groupby('User-ID').count()['Book-Rating']>200\n",
    "# Boolean indexing to get index of valid users\n",
    "valid_users_index = valid_users[valid_users].index\n",
    "# Filtering user-book detail based on valid_users_index\n",
    "filtered_user_rating = Rating_with_name[Rating_with_name['User-ID'].isin(valid_users_index)].drop_duplicates()\n",
    "print('Only top',len(valid_users_index),'number of users give',filtered_user_rating.shape[0],\n",
    "      'number of rating. \\nThrefore average number of rating per top users=',\n",
    "      round(filtered_user_rating.shape[0]/len(valid_users_index),2))"
   ]
  },
  {
   "cell_type": "code",
   "execution_count": 74,
   "metadata": {
    "colab": {
     "base_uri": "https://localhost:8080/"
    },
    "id": "tLl88rxwaRQJ",
    "outputId": "5eb23a09-c9b0-49f3-ac06-c6480ce60a24"
   },
   "outputs": [
    {
     "name": "stdout",
     "output_type": "stream",
     "text": [
      "Out of  474007 number of rating only 706 number of books get 58586 number of ratings.\n",
      "Therefore average number of rating got by top rated books= 82.98\n"
     ]
    }
   ],
   "source": [
    "# valid_books are those which get atleast 100 reviews/ratings\n",
    "valid_books = filtered_user_rating.groupby('Book-Title').count()['Book-Rating']>=50\n",
    "# Boolean indexing to get index of valid books\n",
    "valid_books_index = valid_books[valid_books].index\n",
    "# Finally we filter valid user-book detail based on valid_books_index\n",
    "final_filter = filtered_user_rating[filtered_user_rating['Book-Title'].isin(valid_books_index)].drop_duplicates()\n",
    "print('Out of ',filtered_user_rating.shape[0],'number of rating only',\n",
    "      len(valid_books_index),'number of books get',final_filter.shape[0],\n",
    "      'number of ratings.\\nTherefore average number of rating got by top rated books=',\n",
    "      np.round(final_filter.shape[0]/len(valid_books_index),2))"
   ]
  },
  {
   "cell_type": "code",
   "execution_count": 75,
   "metadata": {
    "id": "j-NvgQBjd0-W",
    "outputId": "8b72f6f7-43cc-4b1d-cedb-54ec94a01d94"
   },
   "outputs": [
    {
     "data": {
      "text/html": [
       "<div>\n",
       "<style scoped>\n",
       "    .dataframe tbody tr th:only-of-type {\n",
       "        vertical-align: middle;\n",
       "    }\n",
       "\n",
       "    .dataframe tbody tr th {\n",
       "        vertical-align: top;\n",
       "    }\n",
       "\n",
       "    .dataframe thead th {\n",
       "        text-align: right;\n",
       "    }\n",
       "</style>\n",
       "<table border=\"1\" class=\"dataframe\">\n",
       "  <thead>\n",
       "    <tr style=\"text-align: right;\">\n",
       "      <th>User-ID</th>\n",
       "      <th>254</th>\n",
       "      <th>2276</th>\n",
       "      <th>2766</th>\n",
       "      <th>2977</th>\n",
       "      <th>3363</th>\n",
       "      <th>4017</th>\n",
       "      <th>4385</th>\n",
       "      <th>6251</th>\n",
       "      <th>6323</th>\n",
       "      <th>6543</th>\n",
       "      <th>...</th>\n",
       "      <th>271705</th>\n",
       "      <th>273979</th>\n",
       "      <th>274004</th>\n",
       "      <th>274061</th>\n",
       "      <th>274301</th>\n",
       "      <th>274308</th>\n",
       "      <th>275970</th>\n",
       "      <th>277427</th>\n",
       "      <th>277639</th>\n",
       "      <th>278418</th>\n",
       "    </tr>\n",
       "    <tr>\n",
       "      <th>Book-Title</th>\n",
       "      <th></th>\n",
       "      <th></th>\n",
       "      <th></th>\n",
       "      <th></th>\n",
       "      <th></th>\n",
       "      <th></th>\n",
       "      <th></th>\n",
       "      <th></th>\n",
       "      <th></th>\n",
       "      <th></th>\n",
       "      <th></th>\n",
       "      <th></th>\n",
       "      <th></th>\n",
       "      <th></th>\n",
       "      <th></th>\n",
       "      <th></th>\n",
       "      <th></th>\n",
       "      <th></th>\n",
       "      <th></th>\n",
       "      <th></th>\n",
       "      <th></th>\n",
       "    </tr>\n",
       "  </thead>\n",
       "  <tbody>\n",
       "    <tr>\n",
       "      <th>1984</th>\n",
       "      <td>9.0</td>\n",
       "      <td>0.0</td>\n",
       "      <td>0.0</td>\n",
       "      <td>0.0</td>\n",
       "      <td>0.0</td>\n",
       "      <td>0.0</td>\n",
       "      <td>0.0</td>\n",
       "      <td>0.0</td>\n",
       "      <td>0.0</td>\n",
       "      <td>0.0</td>\n",
       "      <td>...</td>\n",
       "      <td>10.0</td>\n",
       "      <td>0.0</td>\n",
       "      <td>0.0</td>\n",
       "      <td>0.0</td>\n",
       "      <td>0.0</td>\n",
       "      <td>0.0</td>\n",
       "      <td>0.0</td>\n",
       "      <td>0.0</td>\n",
       "      <td>0.0</td>\n",
       "      <td>0.0</td>\n",
       "    </tr>\n",
       "    <tr>\n",
       "      <th>1st to Die: A Novel</th>\n",
       "      <td>0.0</td>\n",
       "      <td>0.0</td>\n",
       "      <td>0.0</td>\n",
       "      <td>0.0</td>\n",
       "      <td>0.0</td>\n",
       "      <td>0.0</td>\n",
       "      <td>0.0</td>\n",
       "      <td>0.0</td>\n",
       "      <td>0.0</td>\n",
       "      <td>9.0</td>\n",
       "      <td>...</td>\n",
       "      <td>0.0</td>\n",
       "      <td>0.0</td>\n",
       "      <td>0.0</td>\n",
       "      <td>0.0</td>\n",
       "      <td>0.0</td>\n",
       "      <td>0.0</td>\n",
       "      <td>0.0</td>\n",
       "      <td>0.0</td>\n",
       "      <td>0.0</td>\n",
       "      <td>0.0</td>\n",
       "    </tr>\n",
       "    <tr>\n",
       "      <th>2nd Chance</th>\n",
       "      <td>0.0</td>\n",
       "      <td>10.0</td>\n",
       "      <td>0.0</td>\n",
       "      <td>0.0</td>\n",
       "      <td>0.0</td>\n",
       "      <td>0.0</td>\n",
       "      <td>0.0</td>\n",
       "      <td>0.0</td>\n",
       "      <td>0.0</td>\n",
       "      <td>0.0</td>\n",
       "      <td>...</td>\n",
       "      <td>0.0</td>\n",
       "      <td>0.0</td>\n",
       "      <td>0.0</td>\n",
       "      <td>0.0</td>\n",
       "      <td>0.0</td>\n",
       "      <td>0.0</td>\n",
       "      <td>0.0</td>\n",
       "      <td>0.0</td>\n",
       "      <td>0.0</td>\n",
       "      <td>0.0</td>\n",
       "    </tr>\n",
       "    <tr>\n",
       "      <th>4 Blondes</th>\n",
       "      <td>0.0</td>\n",
       "      <td>0.0</td>\n",
       "      <td>0.0</td>\n",
       "      <td>0.0</td>\n",
       "      <td>0.0</td>\n",
       "      <td>0.0</td>\n",
       "      <td>0.0</td>\n",
       "      <td>0.0</td>\n",
       "      <td>0.0</td>\n",
       "      <td>0.0</td>\n",
       "      <td>...</td>\n",
       "      <td>0.0</td>\n",
       "      <td>0.0</td>\n",
       "      <td>0.0</td>\n",
       "      <td>0.0</td>\n",
       "      <td>0.0</td>\n",
       "      <td>0.0</td>\n",
       "      <td>0.0</td>\n",
       "      <td>0.0</td>\n",
       "      <td>0.0</td>\n",
       "      <td>0.0</td>\n",
       "    </tr>\n",
       "    <tr>\n",
       "      <th>A Bend in the Road</th>\n",
       "      <td>0.0</td>\n",
       "      <td>0.0</td>\n",
       "      <td>7.0</td>\n",
       "      <td>0.0</td>\n",
       "      <td>0.0</td>\n",
       "      <td>0.0</td>\n",
       "      <td>0.0</td>\n",
       "      <td>0.0</td>\n",
       "      <td>0.0</td>\n",
       "      <td>0.0</td>\n",
       "      <td>...</td>\n",
       "      <td>0.0</td>\n",
       "      <td>0.0</td>\n",
       "      <td>0.0</td>\n",
       "      <td>0.0</td>\n",
       "      <td>0.0</td>\n",
       "      <td>0.0</td>\n",
       "      <td>0.0</td>\n",
       "      <td>0.0</td>\n",
       "      <td>0.0</td>\n",
       "      <td>0.0</td>\n",
       "    </tr>\n",
       "  </tbody>\n",
       "</table>\n",
       "<p>5 rows × 810 columns</p>\n",
       "</div>"
      ],
      "text/plain": [
       "User-ID              254     2276    2766    2977    3363    4017    4385    \\\n",
       "Book-Title                                                                    \n",
       "1984                    9.0     0.0     0.0     0.0     0.0     0.0     0.0   \n",
       "1st to Die: A Novel     0.0     0.0     0.0     0.0     0.0     0.0     0.0   \n",
       "2nd Chance              0.0    10.0     0.0     0.0     0.0     0.0     0.0   \n",
       "4 Blondes               0.0     0.0     0.0     0.0     0.0     0.0     0.0   \n",
       "A Bend in the Road      0.0     0.0     7.0     0.0     0.0     0.0     0.0   \n",
       "\n",
       "User-ID              6251    6323    6543    ...  271705  273979  274004  \\\n",
       "Book-Title                                   ...                           \n",
       "1984                    0.0     0.0     0.0  ...    10.0     0.0     0.0   \n",
       "1st to Die: A Novel     0.0     0.0     9.0  ...     0.0     0.0     0.0   \n",
       "2nd Chance              0.0     0.0     0.0  ...     0.0     0.0     0.0   \n",
       "4 Blondes               0.0     0.0     0.0  ...     0.0     0.0     0.0   \n",
       "A Bend in the Road      0.0     0.0     0.0  ...     0.0     0.0     0.0   \n",
       "\n",
       "User-ID              274061  274301  274308  275970  277427  277639  278418  \n",
       "Book-Title                                                                   \n",
       "1984                    0.0     0.0     0.0     0.0     0.0     0.0     0.0  \n",
       "1st to Die: A Novel     0.0     0.0     0.0     0.0     0.0     0.0     0.0  \n",
       "2nd Chance              0.0     0.0     0.0     0.0     0.0     0.0     0.0  \n",
       "4 Blondes               0.0     0.0     0.0     0.0     0.0     0.0     0.0  \n",
       "A Bend in the Road      0.0     0.0     0.0     0.0     0.0     0.0     0.0  \n",
       "\n",
       "[5 rows x 810 columns]"
      ]
     },
     "execution_count": 75,
     "metadata": {},
     "output_type": "execute_result"
    }
   ],
   "source": [
    "#creating the user-item interaction matrix\n",
    "Book_matrix_UII = final_filter.pivot_table(index='Book-Title',columns='User-ID',values='Book-Rating').fillna(0)\n",
    "Book_matrix_UII.head()"
   ]
  },
  {
   "cell_type": "code",
   "execution_count": 76,
   "metadata": {
    "id": "U-ns_ZQ3pDgc",
    "outputId": "87f46cda-2a04-432e-f4d6-1f8e37cf9604"
   },
   "outputs": [
    {
     "name": "stdout",
     "output_type": "stream",
     "text": [
      "Shape of the user-item interaction matrix is (706, 810). \n",
      "Where 706 is number of unique books and 810 is number of unique users.\n"
     ]
    }
   ],
   "source": [
    "print(f'''Shape of the user-item interaction matrix is {Book_matrix_UII.shape}. \n",
    "Where {Book_matrix_UII.shape[0]} is number of unique books and {Book_matrix_UII.shape[1]} is number of unique users.''')"
   ]
  },
  {
   "cell_type": "code",
   "execution_count": 77,
   "metadata": {
    "id": "iohR7-wZvQCk"
   },
   "outputs": [],
   "source": [
    "# Calculating similarity score\n",
    "similarity_score = cosine_similarity(Book_matrix_UII)"
   ]
  },
  {
   "cell_type": "code",
   "execution_count": 78,
   "metadata": {
    "id": "_MZ_3tSbb966"
   },
   "outputs": [],
   "source": [
    "def recommended(book_name):\n",
    "    # index gives index position of book_name\n",
    "    index = np.where(Book_matrix_UII.index==book_name)[0][0]\n",
    "    # similar_book gives top list of top-5 book's index & similarity score\n",
    "    similar_book = sorted(list(enumerate(similarity_score[index])),key=lambda x:x[1],reverse=True)[1:6]\n",
    "    for index,similarity in similar_book:\n",
    "        # Book_matrix_UII.index stores all books name so I want to fetch book_name unsing index of similar_book\n",
    "        print(Book_matrix_UII.index[index],' = ',similarity)"
   ]
  },
  {
   "cell_type": "code",
   "execution_count": 79,
   "metadata": {
    "id": "U3DTO-WNb967",
    "outputId": "af47bf1f-5d3b-4c4b-fa91-189d46bf7556"
   },
   "outputs": [
    {
     "name": "stdout",
     "output_type": "stream",
     "text": [
      "Along Came a Spider (Alex Cross Novels)  =  0.3074664764749361\n",
      "Roses Are Red (Alex Cross Novels)  =  0.2827397366387593\n",
      "Pop Goes the Weasel  =  0.2780357116802063\n",
      "Violets Are Blue  =  0.2776809645250099\n",
      "Lightning  =  0.2715497227877098\n"
     ]
    }
   ],
   "source": [
    "recommended('1st to Die: A Novel')"
   ]
  },
  {
   "cell_type": "code",
   "execution_count": 80,
   "metadata": {
    "id": "ODCGs_L_b968",
    "outputId": "f78e4203-1dbf-4fd4-8592-818a5eac50de"
   },
   "outputs": [
    {
     "data": {
      "text/plain": [
       "Book-Title\n",
       "Along Came a Spider (Alex Cross Novels)          0.280918\n",
       "Roses Are Red (Alex Cross Novels)                0.259073\n",
       "Pop Goes the Weasel                              0.253181\n",
       "The Clinic (Alex Delaware Novels (Paperback))    0.247832\n",
       "Lightning                                        0.244731\n",
       "Name: 1st to Die: A Novel, dtype: float64"
      ]
     },
     "execution_count": 80,
     "metadata": {},
     "output_type": "execute_result"
    }
   ],
   "source": [
    "# Checking similarity using correlation\n",
    "Book_matrix_UII.T.corr()['1st to Die: A Novel'].sort_values(ascending=False)[1:6]"
   ]
  },
  {
   "cell_type": "markdown",
   "metadata": {
    "id": "ir6G2Akob969"
   },
   "source": [
    "cosine_similarity and correlation almost give same result. Let's check another resuslt."
   ]
  },
  {
   "cell_type": "code",
   "execution_count": 81,
   "metadata": {
    "id": "4EUVfJqjb96-",
    "outputId": "e90ef4b0-8e1d-4d42-b8f5-9cfa3d3fd179"
   },
   "outputs": [
    {
     "name": "stdout",
     "output_type": "stream",
     "text": [
      "Four Blind Mice  =  0.39182763786833574\n",
      "The Next Accident  =  0.34991368995007677\n",
      "Violets Are Blue  =  0.30619341327105154\n",
      "The Murder Book  =  0.29468927698294456\n",
      "Flesh and Blood  =  0.2744597369070355\n"
     ]
    }
   ],
   "source": [
    "recommended('2nd Chance')"
   ]
  },
  {
   "cell_type": "code",
   "execution_count": 82,
   "metadata": {
    "id": "VNqob6fUb96_",
    "outputId": "0f33aa05-9eb7-41d1-bb44-e28b116b45a0"
   },
   "outputs": [
    {
     "data": {
      "text/plain": [
       "Book-Title\n",
       "Four Blind Mice      0.371790\n",
       "The Next Accident    0.336687\n",
       "Violets Are Blue     0.277350\n",
       "The Murder Book      0.271235\n",
       "Mortal Prey          0.252044\n",
       "Name: 2nd Chance, dtype: float64"
      ]
     },
     "execution_count": 82,
     "metadata": {},
     "output_type": "execute_result"
    }
   ],
   "source": [
    "Book_matrix_UII.T.corr()['2nd Chance'].sort_values(ascending=False)[1:6]"
   ]
  },
  {
   "cell_type": "markdown",
   "metadata": {
    "id": "GUTDPY1_b97C"
   },
   "source": [
    "### Model based colaborative filtering\n",
    "<details>\n",
    "    <summary><h3>1. Model</h3></summary>\n",
    "\n",
    "\n",
    "Matrix factorization (MF) supposes that each observed evaluation $r_{ui}$ for $1 \\leq u \\leq |U|$ and $1 \\leq i \\leq |I|$, where $|U|$ and $|I|$ are respectively the number of users and movies, can be estimated with respect to a latent (hidden) model. This model presents the estimate $\\hat{r}_{ui}$ of the observed evaluation $r_{ui}$ as:\n",
    "\n",
    "\n",
    "$$\n",
    "\\begin{align}\n",
    "\\hat{r}_{ui} =  \\langle p_{u}, q_{i} \\rangle, \n",
    "\\end{align}\n",
    "$$\n",
    "\n",
    "where $\\langle \\cdot \\rangle$ is the scalar product and $p_{u}$ and $q_{i}$ are the latent representations associated to user *u* and item *i*. The intuition behind this representation suggests that each evaluation can be estimated by considering a latent characterization of users and items.\n",
    "\n",
    "For example, we could fix the number of latent variables to 3, and assume that they are associated with the popularity of the movie at the box office, its duration and finally its level of romance. If we define the user *u* as a 15-year-old teenager who loves popular and relatively short horror movies, we can model the associated latent vector by:\n",
    "$$\n",
    "\\begin{align}\n",
    "p_{u} = [1, 0, 0]^T.\n",
    "\\end{align}\n",
    "$$\n",
    "\n",
    "Suppose now that the movie *i* turns out to be *The Lion King* with the following latent modelization:\n",
    "\n",
    "$$\n",
    "\\begin{align}\n",
    "q_{i} = [1, 0.5, 0]^T.\n",
    "\\end{align}\n",
    "$$\n",
    "\n",
    "The evaluation's estimation for this user and this item according to the latent representations will therefore be:\n",
    "\n",
    "$$\n",
    "\\begin{align}\n",
    "\\hat{r}_{ui} =  \\langle p_u, q_i \\rangle = 1.\n",
    "\\end{align}\n",
    "$$\n",
    "\n",
    "The main challenge with this type of model is to define the set of latent vectors associated with users, grouped in matrix form by $\\mathbf{P}_{|U| \\times k} = [p_1, p_2, .. ., p_k]$, and to items, grouped in matrix form by $ \\mathbf{Q}_{|I| \\times k} = [q_1, q_2, ..., q_k] $.\n",
    " \n",
    "Since the initial problem is to present the most accurate estimates, and thus to calculate $\\mathbf{P}$ and $\\mathbf{Q}$ so as to minimize the distance between the totality of the observed ratings $r_{ui}$ and their estimate $\\hat {r}_{ui}$, we can define the task to accomplish with the following optimization problem:\n",
    "\n",
    "$$\n",
    "\\begin{align}\n",
    "\\mathbf{P}, \\mathbf{Q} = \\underset{p, q}{\\operatorname{argmin}} \\sum_{r_{ui} \\neq 0} (r_{ui} - \\hat{r}_{ui})^2 = \\underset{p, q}{\\operatorname{argmin}}  \\sum_{r_{ui} \\neq 0} (r_{ui} - \\langle p_u, q_i \\rangle)^2.\n",
    "\\end{align}\n",
    "$$\n",
    "\n",
    "We may add a regularization on the latent variables, in order to force the associated vectors to have non-zero components:\n",
    "\n",
    "$$\n",
    "\\begin{align}\n",
    "\\mathbf{P}, \\mathbf{Q} = \\underset{p, q}{\\operatorname{argmin}} \\sum_{r_{ui} \\neq 0} \\{(r_{ui} - \\langle p_u, q_i \\rangle)^2 + \\lambda(||p_u||^2 + ||q_i||^2)\\},\n",
    "\\end{align}\n",
    "$$\n",
    "\n",
    "where $\\lambda$ is the regularization hyperparameter, <i>weigth decay</i> in deep learning, or Lagrange multiplier in math. It should be noted that latent vectors with very few zero values will in turn lead to predicted ratings other than zero. Since we are trying to propose new recommendations, this constraint seems useful in avoiding a sparse matrix estimate $\\hat{\\mathbf{R}}$.\n",
    "\n",
    "The optimization problem above, which turns out to factorize a sparse matrix, generally cannot be solved as easily as using the least squares in a linear regression context for example. In this tutorial, we will introduce the stochastic gradient descent algorithm, as one of the approaches in solving this optimization problem to estimate $\\mathbf{P}$ and $ \\mathbf{Q}$ matrices\n",
    "</details>\n",
    "\n",
    "<details>\n",
    "    <summary><h3>2. Loss function</h3></summary>\n",
    "\n",
    "\n",
    "The loss function plays a decisive role in the construction of a predictive model. In fact, it is this same cost function that we will try to optimize by iteratively adjusting the values of the latent matrices $\\mathbf{P}$ and $\\mathbf{Q}$.\n",
    "\n",
    "Since we consider that the observed evaluations vary between 1 and 5, the mean squared error (MSE) seems like an interesting first option. From a recommender system point of view, we will define the MSE as follows:\n",
    "\n",
    "$$\n",
    "\\begin{align}\n",
    "MSE(\\mathbf{R}, \\hat{\\mathbf{R}}) = \\frac{1}{n} \\sum_{r_{ui} \\neq 0} (r_{ui} - \\hat{r}_{ui})^2, \n",
    "\\end{align}\n",
    "$$\n",
    "\n",
    "where $\\mathbf{R}$ and $\\hat{\\mathbf{R}}$ are respectively the matrices of observed and predicted ratings and *n* is the number of evaluations.\n",
    "### Estimation\n",
    " \n",
    "The parameters' estimates are directly associated with the loss function we are trying to minimize. With matrix factorization, two estimation techniques are available to calculate the latent matrices $\\mathbf{P}$ and $\\mathbf{Q}$, respectively associated to users and items. In both cases, these techniques use the linearity of the matrix factorization model.\n",
    "</details>\n",
    "<details>\n",
    "    <summary><h3>3. Gradient descent</h3></summary>\n",
    " \n",
    "First, we implement stochastic gradient descent (SGD): an iterative method that reviews all non-zero evaluations for each user. While remembering that the function we are trying to minimize is:\n",
    " \n",
    "$$\n",
    "\\begin{align}\n",
    "\\underset{p, q}{\\operatorname{min}} L(\\mathbf{R}, \\lambda) = \\underset{p, q}{\\operatorname{min}} \\sum_{r_{ui} \\neq 0} \\{(r_{ui} - \\langle p_u, q_i \\rangle)^2 + \\lambda \\cdot (||p_u||^2 + ||q_i||^2)\\},\n",
    "\\end{align}\n",
    "$$\n",
    " \n",
    "we calculate the gradients of the previous equation as a function of $p_u$ and $q_i$:\n",
    " \n",
    "$$\n",
    "\\nabla_{p_{u}} L(\\mathbf{R}, \\lambda) =  -2q_{i} \\cdot \\epsilon_{ui} + 2\\lambda \\cdot p_{u} \\quad \\text{and} \\quad\n",
    "\\nabla_{q_{i}} L(\\mathbf{R}, \\lambda) =  -2p_{u} \\cdot \\epsilon_{ui} + 2\\lambda \\cdot q_{i},\n",
    "$$\n",
    " \n",
    "where we denote the error by:\n",
    " \n",
    "$$\n",
    "\\epsilon_{ui} = r_{ui} - \\hat{r}_{ui}.\n",
    "$$\n",
    " \n",
    "Finally, for each iteration, as long as the user-item rating is non-zero, we perform the following update on the latent vectors as follows:\n",
    " \n",
    "$$\n",
    "p_{u}^{(t+1)} \\leftarrow p_{u}^{(t)} + \\gamma \\cdot (2q_{i}^{(t)} \\cdot \\epsilon_{ui} - 2 \\lambda \\cdot p_{u}^{(t)}) \\\\\n",
    "q_{i}^{(t+1)} \\leftarrow q_{i}^{(t)} + \\gamma \\cdot (2p_{u}^{(t)} \\cdot \\epsilon_{ui} - 2 \\lambda \\cdot q_{i}^{(t)}),\n",
    "$$\n",
    " \n",
    "where $ p_{u}^{(t + 1)}$ is the value of $ p_{u}$ after the $t + 1$ iteration and where $\\gamma$ is the learning rate of the descent. That is, we take a step in the opposite direction of the gradients in such a way that we minimize the loss function.\n",
    "</details>"
   ]
  },
  {
   "cell_type": "code",
   "execution_count": 41,
   "metadata": {
    "id": "9ms0EGL6b97H"
   },
   "outputs": [],
   "source": [
    "def Matrix_factorization(data, features=10, lr=0.0002, epochs=100, weight_decay = 0.02, stopping = 0.001):\n",
    "    \"\"\"\n",
    "    Args:\n",
    "       data: every evaluation\n",
    "       features: number of latent variables\n",
    "       lr: learning rate for gradient descent\n",
    "       epochs: number of iterations or maximum loops to perform\n",
    "       weigth_decay: L2 regularization to predict rattings different of 0\n",
    "       stopping: scalar associated with the stopping criterion\n",
    "      \n",
    "     Returns:\n",
    "       P: latent matrix of users\n",
    "       Q: latent matrix of items\n",
    "       loss: vector of the different values of the loss function after each iteration\n",
    "       \"\"\"     \n",
    "    nb_users, nb_items = len(data.index), len(data.columns)\n",
    "    loss = []\n",
    "\n",
    "    P = np.random.rand(nb_users,features) \n",
    "    Q = np.random.rand(nb_items,features)\n",
    "    Q = Q.T\n",
    "    \n",
    "    for e in range(epochs):\n",
    "        for u in range(nb_users):\n",
    "            for i in range(nb_items):\n",
    "                if data.iloc[u,i]>0:\n",
    "                    error_ui = data.iloc[u,i] - np.dot(P[u,:],Q[:,i])\n",
    "                    \n",
    "                    # Gradient descent\n",
    "                    for f in range (features):\n",
    "                        P[u][f] = P[u][f] + lr * (2 * error_ui * Q[f][i] - 2 * weight_decay *  P[u][f])\n",
    "                        Q[f][i] = Q[f][i] + lr * (2 * error_ui * P[u][f] - 2 * weight_decay *  Q[f][i])\n",
    "           \n",
    "        pred = np.dot(P,Q)\n",
    "        errors_sum, nb_evaluations = 0,0\n",
    "        for u in range(nb_users):\n",
    "            for i in range(nb_items):\n",
    "                if data.iloc[u,i]>0:\n",
    "                    errors_sum += pow(data.iloc[u,i] - np.dot(P[u,:],Q[:,i]),2)\n",
    "                    nb_evaluations+=1\n",
    "        \n",
    "        mean_error = errors_sum/nb_evaluations\n",
    "        loss.append(mean_error)\n",
    "        if abs(loss[-1])<stopping:\n",
    "            break  \n",
    "            \n",
    "    return P, Q.T, loss"
   ]
  },
  {
   "cell_type": "code",
   "execution_count": 56,
   "metadata": {},
   "outputs": [
    {
     "data": {
      "image/png": "[encoded data removed]",
      "text/plain": [
       "<Figure size 720x432 with 1 Axes>"
      ]
     },
     "metadata": {
      "needs_background": "light"
     },
     "output_type": "display_data"
    }
   ],
   "source": [
    "# creating training set\n",
    "train = Book_matrix_UII.sample(n = 10)\n",
    "# Trianing the model and getting P,Q,loss\n",
    "P, Q, loss = Matrix_factorization(train)\n",
    "\n",
    "# Plotting loss values against number of epochs\n",
    "plt.figure(figsize=(10,6))\n",
    "plt.plot(loss)\n",
    "plt.xlabel('No. of epcochs',fontsize=15)\n",
    "plt.ylabel('loss',fontsize=15)\n",
    "plt.title('Loss vs number of epoch',fontsize=20)\n",
    "plt.grid(True)"
   ]
  },
  {
   "cell_type": "markdown",
   "metadata": {
    "colab": {
     "base_uri": "https://localhost:8080/",
     "height": 298
    },
    "id": "UhREbDPab97U",
    "outputId": "ec01f804-77b0-454f-b7b2-e8e96e70389d"
   },
   "source": [
    "### Model building and prediction using SVD"
   ]
  },
  {
   "cell_type": "code",
   "execution_count": 18,
   "metadata": {
    "id": "ahjYKEYnb97U"
   },
   "outputs": [],
   "source": [
    "#!pip install scikit-surprise\n",
    "from surprise import Reader, Dataset, SVD\n",
    "from surprise.model_selection import cross_validate,train_test_split\n",
    "from surprise import accuracy"
   ]
  },
  {
   "cell_type": "code",
   "execution_count": 21,
   "metadata": {
    "id": "V5MIJXrgb97V"
   },
   "outputs": [],
   "source": [
    "# creating object of Reader class\n",
    "reader=Reader()\n",
    "# splitting the data into trainset and testset\n",
    "data = Dataset.load_from_df(Rating_with_name[['User-ID','Book-Title','Book-Rating']], reader)\n",
    "train, test =train_test_split(data)"
   ]
  },
  {
   "cell_type": "code",
   "execution_count": 23,
   "metadata": {
    "colab": {
     "base_uri": "https://localhost:8080/"
    },
    "id": "5xx7D6uEflDm",
    "outputId": "a2b4922a-2b85-407d-ee72-19cf5233b50a"
   },
   "outputs": [
    {
     "name": "stdout",
     "output_type": "stream",
     "text": [
      "RMSE: 3.5180\n"
     ]
    },
    {
     "data": {
      "text/plain": [
       "3.5180033892122013"
      ]
     },
     "execution_count": 23,
     "metadata": {},
     "output_type": "execute_result"
    }
   ],
   "source": [
    "# creating object of SVD class\n",
    "svd=SVD()\n",
    "# fitting the model\n",
    "svd.fit(train)\n",
    "# prediction\n",
    "pred = svd.test(test)\n",
    "# getting accuracy in RMSE\n",
    "accuracy.rmse(pred, verbose=True)"
   ]
  },
  {
   "cell_type": "code",
   "execution_count": 25,
   "metadata": {
    "id": "J_XWc8_UlGST"
   },
   "outputs": [],
   "source": [
    "# getting top n recommended moveis for every users\n",
    "def get_top_n(predictions, n=10):\n",
    "    # First map the predictions to each user.\n",
    "    top_n = defaultdict(list)\n",
    "    for uid, iid, true_r, est, _ in predictions:\n",
    "        top_n[uid].append((iid, est))\n",
    "\n",
    "    # Then sort the predictions for each user and retrieve the n highest ones.\n",
    "    for uid, user_ratings in top_n.items():\n",
    "        user_ratings.sort(key=lambda x: x[1], reverse=True)\n",
    "        top_n[uid] = user_ratings[:n]\n",
    "\n",
    "    return top_n"
   ]
  },
  {
   "cell_type": "code",
   "execution_count": 27,
   "metadata": {
    "id": "CRLYFFUflajY"
   },
   "outputs": [],
   "source": [
    "top_5 = get_top_n(pred, n=5)"
   ]
  },
  {
   "cell_type": "code",
   "execution_count": 30,
   "metadata": {
    "id": "LilbjeONgN2k"
   },
   "outputs": [],
   "source": [
    "user_id, recommendation = [],[]\n",
    "for uid, user_ratings in top_5.items():\n",
    "    user_id.append(uid)\n",
    "    recommendation.append([iid for (iid, _) in user_ratings])      "
   ]
  },
  {
   "cell_type": "code",
   "execution_count": 59,
   "metadata": {
    "colab": {
     "base_uri": "https://localhost:8080/",
     "height": 314
    },
    "id": "pu46UkdhCDsX",
    "outputId": "a3c2596c-39d9-4183-8637-26a4b838aee4"
   },
   "outputs": [
    {
     "data": {
      "text/html": [
       "\n",
       "  <div id=\"df-960f0672-8994-46cc-8d71-8c769b52853e\">\n",
       "    <div class=\"colab-df-container\">\n",
       "      <div>\n",
       "<style scoped>\n",
       "    .dataframe tbody tr th:only-of-type {\n",
       "        vertical-align: middle;\n",
       "    }\n",
       "\n",
       "    .dataframe tbody tr th {\n",
       "        vertical-align: top;\n",
       "    }\n",
       "\n",
       "    .dataframe thead th {\n",
       "        text-align: right;\n",
       "    }\n",
       "</style>\n",
       "<table border=\"1\" class=\"dataframe\">\n",
       "  <thead>\n",
       "    <tr style=\"text-align: right;\">\n",
       "      <th></th>\n",
       "      <th>User_ID</th>\n",
       "      <th>To 5 recommendation</th>\n",
       "    </tr>\n",
       "  </thead>\n",
       "  <tbody>\n",
       "    <tr>\n",
       "      <th>0</th>\n",
       "      <td>123056</td>\n",
       "      <td>[The Sixteen Pleasures: A Novel, Presumed Inno...</td>\n",
       "    </tr>\n",
       "    <tr>\n",
       "      <th>1</th>\n",
       "      <td>76151</td>\n",
       "      <td>[ONE FOR THE MONEY : A Stephanie Plum Novel, D...</td>\n",
       "    </tr>\n",
       "    <tr>\n",
       "      <th>2</th>\n",
       "      <td>26544</td>\n",
       "      <td>[High Five (A Stephanie Plum Novel), Angels &amp;a...</td>\n",
       "    </tr>\n",
       "    <tr>\n",
       "      <th>3</th>\n",
       "      <td>125411</td>\n",
       "      <td>[The Sisterhood of the Traveling Pants, The Sc...</td>\n",
       "    </tr>\n",
       "    <tr>\n",
       "      <th>4</th>\n",
       "      <td>153662</td>\n",
       "      <td>[What Katy Did Next (Wordsworth Collection), T...</td>\n",
       "    </tr>\n",
       "  </tbody>\n",
       "</table>\n",
       "</div>\n",
       "      <button class=\"colab-df-convert\" onclick=\"convertToInteractive('df-960f0672-8994-46cc-8d71-8c769b52853e')\"\n",
       "              title=\"Convert this dataframe to an interactive table.\"\n",
       "              style=\"display:none;\">\n",
       "        \n",
       "  <svg xmlns=\"http://www.w3.org/2000/svg\" height=\"24px\"viewBox=\"0 0 24 24\"\n",
       "       width=\"24px\">\n",
       "    <path d=\"M0 0h24v24H0V0z\" fill=\"none\"/>\n",
       "    <path d=\"M18.56 5.44l.94 2.06.94-2.06 2.06-.94-2.06-.94-.94-2.06-.94 2.06-2.06.94zm-11 1L8.5 8.5l.94-2.06 2.06-.94-2.06-.94L8.5 2.5l-.94 2.06-2.06.94zm10 10l.94 2.06.94-2.06 2.06-.94-2.06-.94-.94-2.06-.94 2.06-2.06.94z\"/><path d=\"M17.41 7.96l-1.37-1.37c-.4-.4-.92-.59-1.43-.59-.52 0-1.04.2-1.43.59L10.3 9.45l-7.72 7.72c-.78.78-.78 2.05 0 2.83L4 21.41c.39.39.9.59 1.41.59.51 0 1.02-.2 1.41-.59l7.78-7.78 2.81-2.81c.8-.78.8-2.07 0-2.86zM5.41 20L4 18.59l7.72-7.72 1.47 1.35L5.41 20z\"/>\n",
       "  </svg>\n",
       "      </button>\n",
       "      \n",
       "  <style>\n",
       "    .colab-df-container {\n",
       "      display:flex;\n",
       "      flex-wrap:wrap;\n",
       "      gap: 12px;\n",
       "    }\n",
       "\n",
       "    .colab-df-convert {\n",
       "      background-color: #E8F0FE;\n",
       "      border: none;\n",
       "      border-radius: 50%;\n",
       "      cursor: pointer;\n",
       "      display: none;\n",
       "      fill: #1967D2;\n",
       "      height: 32px;\n",
       "      padding: 0 0 0 0;\n",
       "      width: 32px;\n",
       "    }\n",
       "\n",
       "    .colab-df-convert:hover {\n",
       "      background-color: #E2EBFA;\n",
       "      box-shadow: 0px 1px 2px rgba(60, 64, 67, 0.3), 0px 1px 3px 1px rgba(60, 64, 67, 0.15);\n",
       "      fill: #174EA6;\n",
       "    }\n",
       "\n",
       "    [theme=dark] .colab-df-convert {\n",
       "      background-color: #3B4455;\n",
       "      fill: #D2E3FC;\n",
       "    }\n",
       "\n",
       "    [theme=dark] .colab-df-convert:hover {\n",
       "      background-color: #434B5C;\n",
       "      box-shadow: 0px 1px 3px 1px rgba(0, 0, 0, 0.15);\n",
       "      filter: drop-shadow(0px 1px 2px rgba(0, 0, 0, 0.3));\n",
       "      fill: #FFFFFF;\n",
       "    }\n",
       "  </style>\n",
       "\n",
       "      <script>\n",
       "        const buttonEl =\n",
       "          document.querySelector('#df-960f0672-8994-46cc-8d71-8c769b52853e button.colab-df-convert');\n",
       "        buttonEl.style.display =\n",
       "          google.colab.kernel.accessAllowed ? 'block' : 'none';\n",
       "\n",
       "        async function convertToInteractive(key) {\n",
       "          const element = document.querySelector('#df-960f0672-8994-46cc-8d71-8c769b52853e');\n",
       "          const dataTable =\n",
       "            await google.colab.kernel.invokeFunction('convertToInteractive',\n",
       "                                                     [key], {});\n",
       "          if (!dataTable) return;\n",
       "\n",
       "          const docLinkHtml = 'Like what you see? Visit the ' +\n",
       "            '<a target=\"_blank\" href=https://colab.research.google.com/notebooks/data_table.ipynb>data table notebook</a>'\n",
       "            + ' to learn more about interactive tables.';\n",
       "          element.innerHTML = '';\n",
       "          dataTable['output_type'] = 'display_data';\n",
       "          await google.colab.output.renderOutput(dataTable, element);\n",
       "          const docLink = document.createElement('div');\n",
       "          docLink.innerHTML = docLinkHtml;\n",
       "          element.appendChild(docLink);\n",
       "        }\n",
       "      </script>\n",
       "    </div>\n",
       "  </div>\n",
       "  "
      ],
      "text/plain": [
       "   User_ID                                To 5 recommendation\n",
       "0   123056  [The Sixteen Pleasures: A Novel, Presumed Inno...\n",
       "1    76151  [ONE FOR THE MONEY : A Stephanie Plum Novel, D...\n",
       "2    26544  [High Five (A Stephanie Plum Novel), Angels &a...\n",
       "3   125411  [The Sisterhood of the Traveling Pants, The Sc...\n",
       "4   153662  [What Katy Did Next (Wordsworth Collection), T..."
      ]
     },
     "execution_count": 59,
     "metadata": {},
     "output_type": "execute_result"
    }
   ],
   "source": [
    "recommendation_matrix = pd.DataFrame({'User_ID':user_id,'To 5 recommendation':recommendation})\n",
    "recommendation_matrix.head()"
   ]
  },
  {
   "cell_type": "code",
   "execution_count": null,
   "metadata": {
    "id": "-0yU1slC_68J"
   },
   "outputs": [],
   "source": []
  }
 ],
 "metadata": {
  "colab": {
   "provenance": []
  },
  "kernelspec": {
   "display_name": "Python 3 (ipykernel)",
   "language": "python",
   "name": "python3"
  },
  "language_info": {
   "codemirror_mode": {
    "name": "ipython",
    "version": 3
   },
   "file_extension": ".py",
   "mimetype": "text/x-python",
   "name": "python",
   "nbconvert_exporter": "python",
   "pygments_lexer": "ipython3",
   "version": "3.9.12"
  }
 },
 "nbformat": 4,
 "nbformat_minor": 1
}
